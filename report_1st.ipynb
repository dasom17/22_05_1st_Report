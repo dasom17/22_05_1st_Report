{
  "nbformat": 4,
  "nbformat_minor": 0,
  "metadata": {
    "colab": {
      "provenance": [],
      "collapsed_sections": [],
      "authorship_tag": "ABX9TyO80Av3paIBP7KtBNbSNSAw",
      "include_colab_link": true
    },
    "kernelspec": {
      "name": "python3",
      "display_name": "Python 3"
    },
    "language_info": {
      "name": "python"
    }
  },
  "cells": [
    {
      "cell_type": "markdown",
      "metadata": {
        "id": "view-in-github",
        "colab_type": "text"
      },
      "source": [
        "<a href=\"https://colab.research.google.com/github/dasom17/22_05_1st_Report/blob/main/report_1st.ipynb\" target=\"_parent\"><img src=\"https://colab.research.google.com/assets/colab-badge.svg\" alt=\"Open In Colab\"/></a>"
      ]
    },
    {
      "cell_type": "markdown",
      "source": [
        "1. \"환영합니다.\", \"파이썬의 세계에 오신 것을 환영합니다.\", \"파이썬은 강력합니다.\"를 화면에 출력하는 프로그램을 작성하시오. 스크립트 모드로 실행한다."
      ],
      "metadata": {
        "id": "todAbiYXJwW7"
      }
    },
    {
      "cell_type": "code",
      "source": [
        "print(\"환영합니다.\", \"파이썬의 세계에 오신 것을 환영합니다.\", \"파이썬은 강력합니다.\")"
      ],
      "metadata": {
        "colab": {
          "base_uri": "https://localhost:8080/"
        },
        "id": "m2oKbYDJKDP2",
        "outputId": "6b5bee7a-85e2-4ef8-a697-01caaeaba781"
      },
      "execution_count": null,
      "outputs": [
        {
          "output_type": "stream",
          "name": "stdout",
          "text": [
            "환영합니다. 파이썬의 세계에 오신 것을 환영합니다. 파이썬은 강력합니다.\n"
          ]
        }
      ]
    },
    {
      "cell_type": "markdown",
      "source": [
        "2. 다음 프로그램의 실행 결과를 쓰시오.\n",
        "\n",
        "print(\"반갑습니다. 파이썬!\")\n",
        "print(2*3/10)\n",
        "print(\"Hello\", \"World\", \"!!!\")"
      ],
      "metadata": {
        "id": "maW9JbiIKRuN"
      }
    },
    {
      "cell_type": "code",
      "source": [
        "print(\"반갑습니다. 파이썬!\")\n",
        "print(2*3/10)\n",
        "print(\"Hello\", \"World\", \"!!!\")"
      ],
      "metadata": {
        "colab": {
          "base_uri": "https://localhost:8080/"
        },
        "id": "XHSdipDVKmrw",
        "outputId": "1bf1dc77-6f68-4510-e61b-81340227d3da"
      },
      "execution_count": null,
      "outputs": [
        {
          "output_type": "stream",
          "name": "stdout",
          "text": [
            "반갑습니다. 파이썬!\n",
            "0.6\n",
            "Hello World !!!\n"
          ]
        }
      ]
    },
    {
      "cell_type": "markdown",
      "source": [
        "1. 반갑습니다. 파이썬!\n",
        "2. 0.6\n",
        "3. Hello World !!!"
      ],
      "metadata": {
        "id": "V64rCRi5Kr15"
      }
    },
    {
      "cell_type": "markdown",
      "source": [
        "3. 파이썬 쉘을 사용하여서 한 주가 몇 시간에 해당하는지를 계산해보자."
      ],
      "metadata": {
        "id": "1dR0RjOxK1YN"
      }
    },
    {
      "cell_type": "code",
      "source": [
        "print(7*24)"
      ],
      "metadata": {
        "colab": {
          "base_uri": "https://localhost:8080/"
        },
        "id": "P71SMD8TLJOy",
        "outputId": "b7b8caf8-bc3f-4de8-a6e7-7b7260a04d53"
      },
      "execution_count": null,
      "outputs": [
        {
          "output_type": "stream",
          "name": "stdout",
          "text": [
            "168\n"
          ]
        }
      ]
    },
    {
      "cell_type": "markdown",
      "source": [
        "168시간이다."
      ],
      "metadata": {
        "id": "30soZhzVLeAk"
      }
    },
    {
      "cell_type": "markdown",
      "source": [
        "4. 터틀 그래픽에서 거북이를 이동시켜 다음과 같은 그림을 그려보자. forward()와 right(), left() 함수만을 사용한다."
      ],
      "metadata": {
        "id": "7HGesvK-LfgJ"
      }
    },
    {
      "cell_type": "markdown",
      "source": [],
      "metadata": {
        "id": "157-5nsAOEQH"
      }
    },
    {
      "cell_type": "code",
      "source": [
        "import turtle\n",
        "t = turtle.Turtle()\n",
        "t.shape(\"turtle\");\n",
        "t.forward(100)\n",
        "t.left(90)\n",
        "t.forward(100)\n",
        "t.right(90)\n",
        "t.forward(100)\n",
        "t.right(90)\n",
        "t.forward(100)\n",
        "t.left(90)\n",
        "t.forward(100)\n"
      ],
      "metadata": {
        "id": "RuIlh1t1PEFP"
      },
      "execution_count": null,
      "outputs": []
    }
  ]
}